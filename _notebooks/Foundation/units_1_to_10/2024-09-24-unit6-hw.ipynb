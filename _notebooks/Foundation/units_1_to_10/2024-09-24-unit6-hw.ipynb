{
 "cells": [
  {
   "cell_type": "markdown",
   "metadata": {},
   "source": [
    "---\n",
    "layout: post\n",
    "title: Unit 6 Homework\n",
    "description: Unit 6 Homework\n",
    "categories: [Collaboration]\n",
    "courses: { csse: {week: 0}, csp: {week: 0 }, csa: {week: 0}}\n",
    "type: collab\n",
    "menu: nav/unit6hw\n",
    "permalink: teamteach/unit6/hw\n",
    "toc: true\n",
    "---"
   ]
  },
  {
   "cell_type": "code",
   "execution_count": 1,
   "metadata": {
    "vscode": {
     "languageId": "java"
    }
   },
   "outputs": [],
   "source": [
    "int thing=1;"
   ]
  }
 ],
 "metadata": {
  "kernelspec": {
   "display_name": "Java",
   "language": "java",
   "name": "java"
  },
  "language_info": {
   "codemirror_mode": "java",
   "file_extension": ".jshell",
   "mimetype": "text/x-java-source",
   "name": "Java",
   "pygments_lexer": "java",
   "version": "17.0.12+8-LTS-286"
  }
 },
 "nbformat": 4,
 "nbformat_minor": 2
}
