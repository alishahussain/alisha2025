{
 "cells": [
  {
   "cell_type": "markdown",
   "metadata": {},
   "source": [
    "---\n",
    "layout: post\n",
    "title: Camparing Objects\n",
    "description:  Learning about camparing objects\n",
    "type: issues \n",
    "comments: true\n",
    "---"
   ]
  },
  {
   "cell_type": "markdown",
   "metadata": {},
   "source": [
    "## Comparing Objects\n",
    "\n",
    "In java there are two different methods to compare objects but there is a difference between the == operator and the equals() method."
   ]
  },
  {
   "cell_type": "markdown",
   "metadata": {},
   "source": [
    "## == operator\n",
    "\n",
    "This operator verifies if two references refer to the same object in memory, without evaluating the objects' values or attributes."
   ]
  },
  {
   "cell_type": "code",
   "execution_count": 2,
   "metadata": {
    "vscode": {
     "languageId": "java"
    }
   },
   "outputs": [
    {
     "name": "stdout",
     "output_type": "stream",
     "text": [
      "true\n",
      "true\n",
      "false\n"
     ]
    }
   ],
   "source": [
    "Integer num1 = 100;\n",
    "Integer num2 = 100;\n",
    "Integer num3 = num1;\n",
    "Integer num4 = new Integer(100);\n",
    "\n",
    "System.out.println(num1 == num3); // true (same reference)\n",
    "System.out.println(num1 == num2); // true (cached integers between -128 and 127)\n",
    "System.out.println(num1 == num4); // false (different references)"
   ]
  },
  {
   "cell_type": "markdown",
   "metadata": {},
   "source": [
    "This compares the integer as num1 == num3 because they both equal the same integer so it's true. num1 == num2 because when they are both assigned the value 100 they point to the same reference so they become true. num1 == num4 even though they have the same values they are different because it's a new integer so it becomes false because they don't have the same reference point."
   ]
  },
  {
   "cell_type": "markdown",
   "metadata": {},
   "source": [
    "## equals() method\n",
    "\n",
    "This method checks the values or attributes of two objects. In custom classes, it is commonly overridden to offer a meaningful comparison based on the class's specific attributes. It focuses on value rather reference points."
   ]
  },
  {
   "cell_type": "code",
   "execution_count": null,
   "metadata": {
    "vscode": {
     "languageId": "java"
    }
   },
   "outputs": [],
   "source": [
    "Integer num1 = 100;\n",
    "Integer num2 = 100;\n",
    "Integer num3 = new Integer(100);\n",
    "\n",
    "System.out.println(num1.equals(num2)); // true (same value)\n",
    "System.out.println(num1.equals(num3)); // true (same value)"
   ]
  },
  {
   "cell_type": "markdown",
   "metadata": {},
   "source": [
    "This compares the values by their objects, not their references. num1.equals(num2) checks if the values are the same between the 2 but since they both have a value of 100 they are equal so it becomes true. This ignores if the objects have the same or different reference point. num1.euals(num3) even though it has a new integer and it's different from num1 they are still the same because they have the same value so it makes it true."
   ]
  },
  {
   "cell_type": "markdown",
   "metadata": {},
   "source": [
    "## Popcorn hack\n",
    "Would the sharons house and my house be the same?"
   ]
  },
  {
   "cell_type": "code",
   "execution_count": 5,
   "metadata": {
    "vscode": {
     "languageId": "java"
    }
   },
   "outputs": [
    {
     "ename": "CompilationException",
     "evalue": "",
     "output_type": "error",
     "traceback": [
      "\u001b[1m\u001b[30m|   \u001b[1m\u001b[30mHouse myHouse = (green,\u001b[0m\u001b[1m\u001b[30m\u001b[41m\u001b[0m\u001b[1m\u001b[30m 150);\u001b[0m",
      "\u001b[1m\u001b[31m')' expected\u001b[0m",
      "",
      "\u001b[1m\u001b[30m|   \u001b[1m\u001b[30mHouse myHouse = (green, 150\u001b[0m\u001b[1m\u001b[30m\u001b[41m\u001b[0m\u001b[1m\u001b[30m);\u001b[0m",
      "\u001b[1m\u001b[31m';' expected\u001b[0m",
      ""
     ]
    }
   ],
   "source": [
    "House myHouse = (green, 150);\n",
    "House anikasHouse = (green, 150);\n",
    "House sharonsHouse = new house (green, 150);\n",
    "\n",
    "System.out.println(myhouse = sharonsHouse);"
   ]
  }
 ],
 "metadata": {
  "kernelspec": {
   "display_name": "java (IJava/j!)",
   "language": "java",
   "name": "jbang-ijava"
  },
  "language_info": {
   "codemirror_mode": "java",
   "file_extension": ".jshell",
   "mimetype": "text/x-java-source",
   "name": "Java",
   "pygments_lexer": "java",
   "version": "17.0.11+7-LTS-207"
  },
  "orig_nbformat": 4
 },
 "nbformat": 4,
 "nbformat_minor": 2
}
