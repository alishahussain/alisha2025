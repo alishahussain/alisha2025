{
 "cells": [
  {
   "cell_type": "markdown",
   "metadata": {},
   "source": [
    "---\n",
    "layout: post\n",
    "title: Unit 3 Team Teach - Boolean Expressions and If Statements\n",
    "categories: [Collaboration]\n",
    "courses: {csa: {week: 4}}\n",
    "toc: true\n",
    "comments: true\n",
    "---"
   ]
  },
  {
   "cell_type": "markdown",
   "metadata": {},
   "source": [
    "# 3.1 Boolean Expressions\n",
    "\n",
    "## Java's relational operators\n",
    "\n",
    "- equal to: ==\n",
    "- not equal to: !=\n",
    "- less than: <\n",
    "- greater than: >\n",
    "- less than or equal to: <=\n",
    "- greater than or equal to >="
   ]
  },
  {
   "cell_type": "markdown",
   "metadata": {},
   "source": [
    "<b>Hack!</b>\n",
    "\n",
    "```\n",
    "int myAge = 15;\n",
    "int otherAge = 45; \n",
    "```\n",
    "using these integers, determine weather the following statements are True or False\n",
    "\n",
    "<img width=\"785\" alt=\"Screenshot 2024-09-15 at 10 00 54 PM\" src=\"https://github.com/user-attachments/assets/1f4ec53e-fd9a-4f49-9546-a4945b8a207c\">\n",
    "\n",
    "## Booleans with Strings"
   ]
  },
  {
   "cell_type": "markdown",
   "metadata": {},
   "source": [
    "whats wrong with this code? (below)"
   ]
  },
  {
   "cell_type": "code",
   "execution_count": 2,
   "metadata": {
    "vscode": {
     "languageId": "java"
    }
   },
   "outputs": [
    {
     "ename": "CompilationException",
     "evalue": "",
     "output_type": "error",
     "traceback": [
      "\u001b[1m\u001b[30m|   \u001b[1m\u001b[30mmyName != \"Anika\"\u001b[0m\u001b[1m\u001b[30m\u001b[41m\u001b[0m\u001b[1m\u001b[30m\u001b[0m",
      "\u001b[1m\u001b[31m';' expected\u001b[0m",
      "",
      "\u001b[1m\u001b[30m|   \u001b[1m\u001b[30m\u001b[0m\u001b[1m\u001b[30m\u001b[41mmyName == \"Alisha\"\u001b[0m\u001b[1m\u001b[30m \u001b[0m",
      "\u001b[1m\u001b[31mnot a statement\u001b[0m",
      "",
      "\u001b[1m\u001b[30m|   \u001b[1m\u001b[30m\u001b[0m\u001b[1m\u001b[30m\u001b[41mmyName == \"Alisha\"\u001b[0m\u001b[1m\u001b[30m \u001b[0m",
      "\u001b[1m\u001b[31munreachable statement\u001b[0m",
      ""
     ]
    }
   ],
   "source": [
    "\n",
    "String myName = \"Alisha\";\n",
    "\n",
    "myName != \"Anika\";\n",
    "myName == \"Alisha\";"
   ]
  },
  {
   "cell_type": "markdown",
   "metadata": {},
   "source": []
  },
  {
   "cell_type": "code",
   "execution_count": null,
   "metadata": {
    "vscode": {
     "languageId": "java"
    }
   },
   "outputs": [
    {
     "ename": "SyntaxError",
     "evalue": "invalid syntax (3254502978.py, line 1)",
     "output_type": "error",
     "traceback": [
      "\u001b[0;36m  Cell \u001b[0;32mIn[5], line 1\u001b[0;36m\u001b[0m\n\u001b[0;31m    String myName = \"Alisha\";\u001b[0m\n\u001b[0m           ^\u001b[0m\n\u001b[0;31mSyntaxError\u001b[0m\u001b[0;31m:\u001b[0m invalid syntax\n"
     ]
    }
   ],
   "source": [
    "String myName = \"Alisha\";\n",
    "\n",
    "if (!myName.equals(\"Anika\")) {\n",
    "    System.out.println(\"Names are not equal.\");\n",
    "}\n",
    "\n",
    "if (myName.equals(\"Alisha\")) {\n",
    "    System.out.println(\"Names are equal.\");\n",
    "}\n"
   ]
  },
  {
   "cell_type": "markdown",
   "metadata": {},
   "source": [
    "practice frq\n",
    "<img width=\"693\" alt=\"Screenshot 2024-09-16 at 8 05 24 AM\" src=\"https://github.com/user-attachments/assets/1fe21854-ca17-4cfd-9e9d-14a92e6e6205\">\n",
    "what is the precondition for num?\n",
    " "
   ]
  },
  {
   "cell_type": "markdown",
   "metadata": {},
   "source": [
    "# 3.2 If Statements and Control Flow\n",
    "<img width=\"322\" alt=\"Screenshot 2024-09-16 at 8 07 34 AM\" src=\"https://github.com/user-attachments/assets/4409a622-5497-4495-b23c-ad25597e80bf\">\n",
    "<img width=\"319\" alt=\"Screenshot 2024-09-16 at 8 07 41 AM\" src=\"https://github.com/user-attachments/assets/25c381e4-e5c9-47dc-aaa5-d3892d5b8738\">\n"
   ]
  },
  {
   "cell_type": "code",
   "execution_count": null,
   "metadata": {
    "vscode": {
     "languageId": "java"
    }
   },
   "outputs": [
    {
     "ename": "CompilationException",
     "evalue": "",
     "output_type": "error",
     "traceback": [
      "\u001b[1m\u001b[30m|   \u001b[1m\u001b[30m        \u001b[0m\u001b[1m\u001b[30m\u001b[41mSystem.out.prinln\u001b[0m\u001b[1m\u001b[30m(\"you can start learning to drive!\");\u001b[0m",
      "\u001b[1m\u001b[31mcannot find symbol\u001b[0m",
      "\u001b[1m\u001b[31m  symbol:   method prinln(java.lang.String)\u001b[0m",
      "",
      "\u001b[1m\u001b[30m|   \u001b[1m\u001b[30m    \u001b[0m\u001b[1m\u001b[30m\u001b[41mSystem.out.prinln\u001b[0m\u001b[1m\u001b[30m(\"on your next birthday, you will be \"+ myAge + \"years old!\");\u001b[0m",
      "\u001b[1m\u001b[31mcannot find symbol\u001b[0m",
      "\u001b[1m\u001b[31m  symbol:   method prinln(java.lang.String)\u001b[0m",
      ""
     ]
    }
   ],
   "source": [
    "public static void main(String [] args)\n",
    "{\n",
    "    int myAge = 16;\n",
    "    System.out.println(\"current age: \"+ myAge);\n",
    "    if (myAge >= 16)\n",
    "    {\n",
    "        System.out.prinln(\"you can start learning to drive!\");\n",
    "    }\n",
    "    System.out.prinln(\"on your next birthday, you will be \"+ myAge + \"years old!\");\n",
    "}"
   ]
  },
  {
   "cell_type": "markdown",
   "metadata": {},
   "source": [
    "create test cases that do not satisy the condition above. you can copy/paste the code into the new code cell"
   ]
  },
  {
   "cell_type": "markdown",
   "metadata": {},
   "source": [
    "Purpose of Else Statements: Handles what happens when the if condition is false.\n",
    "Structure of If-Else:\n",
    "- If statement with a condition.\n",
    "- Else statement without a condition.\n",
    "- Both parts have code blocks surrounded by {}.\n",
    "\n",
    "<img width=\"816\" alt=\"image\" src=\"https://github.com/user-attachments/assets/c6701143-b87f-427b-a206-6cee0660571c\">\n",
    "\n",
    "1. Based on this code, if you were younger than 16 what would it print out?\n",
    "2. Write your own if else statement\n",
    "\n",
    "Else If Statements: Used when you have multiple conditions that need to be checked sequentially.\n",
    "\n",
    "Flow of Execution: Each condition is evaluated in the order written. The first true condition's code runs, and the rest are skipped.\n",
    "\n",
    "Structure:\n",
    "\n",
    "- Start with a single if statement.\n",
    "- Follow with as many else if statements as needed.\n",
    "- Optionally end with one else to handle any remaining cases.\n",
    "Key Concept: The order of conditions matters. More specific conditions should come before broader ones to ensure accurate results.\n",
    "\n",
    "<img width=\"734\" alt=\"image\" src=\"https://github.com/user-attachments/assets/d7864258-6f7a-4de1-a6f3-4905dd3eb503\">\n",
    "\n",
    "1. If I was 19 what would it print out? \n",
    "2. If I was 13 what would it print out? \n",
    "3. Create your if statement with one else if condition. \n"
   ]
  },
  {
   "cell_type": "markdown",
   "metadata": {},
   "source": [
    "# 3.5\n",
    "## Compund Boolean expressions - nested conditional statements \n",
    "\n",
    "definition: if statements within other if statements "
   ]
  },
  {
   "cell_type": "code",
   "execution_count": null,
   "metadata": {
    "vscode": {
     "languageId": "java"
    }
   },
   "outputs": [],
   "source": [
    "# Get user input for age and student status\n",
    "age = int(input(\"Enter your age: \"))  # Input for age, converted to an integer\n",
    "is_student = input(\"Are you a student? (yes/no): \").lower() == 'yes'  # Input for student status, converted to a boolean\n",
    "\n",
    "# Outer if-else block\n",
    "if age < 18:  # First condition: checks if the person is a minor\n",
    "    print(\"You are a minor.\")\n",
    "else:\n",
    "    # Nested if-else block (inside the else of the outer condition)\n",
    "    if is_student:  # Second condition: checks if the person is a student\n",
    "        print(\"You are an adult student.\")\n",
    "    else:  # If not a student, print this\n",
    "        print(\"You are an adult.\")"
   ]
  },
  {
   "cell_type": "markdown",
   "metadata": {},
   "source": [
    "#### common mistake: Dangling else \n",
    "    - Java does not care about indentation\n",
    "    - else always belongs to the CLOSEST if\n",
    "    - curly braces can be use to format else so it belongs to the FIRST 'if'\n",
    "\n",
    "### Popcorn hack #1\n",
    "- explain the purpose of this algorithm, and what each if condition is used for\n",
    "- what would be output if input is \n",
    "    - age 20\n",
    "    - anual income 1500\n",
    "    - student status: yes"
   ]
  },
  {
   "cell_type": "code",
   "execution_count": null,
   "metadata": {
    "vscode": {
     "languageId": "java"
    }
   },
   "outputs": [],
   "source": [
    "function checkMembershipEligibility() {\n",
    "    // Get user input\n",
    "    let age = parseInt(prompt(\"Enter your age:\"));  // Age input\n",
    "    let income = parseFloat(prompt(\"Enter your annual income:\"));  // Annual income input\n",
    "    let isStudent = prompt(\"Are you a student? (yes/no):\").toLowerCase() === 'yes';  // Student status input\n",
    "\n",
    "    // Initialize an empty array to hold results\n",
    "    let results = [];\n",
    "\n",
    "    // Check eligibility for different memberships\n",
    "\n",
    "    // Basic Membership\n",
    "    if (age >= 18 && income >= 20000) {\n",
    "        results.push(\"You qualify for Basic Membership.\");\n",
    "    }\n",
    "\n",
    "    // Premium Membership\n",
    "    if (age >= 25 && income >= 50000) {\n",
    "        results.push(\"You qualify for Premium Membership.\");\n",
    "    }\n",
    "\n",
    "    // Student Discount\n",
    "    if (isStudent) {\n",
    "        results.push(\"You are eligible for a Student Discount.\");\n",
    "    }\n",
    "\n",
    "    // Senior Discount\n",
    "    if (age >= 65) {\n",
    "        results.push(\"You qualify for a Senior Discount.\");\n",
    "    }\n",
    "\n",
    "    // If no eligibility, provide a default message\n",
    "    if (results.length === 0) {\n",
    "        results.push(\"You do not qualify for any memberships or discounts.\");\n",
    "    }\n",
    "\n",
    "    // Output all results\n",
    "    results.forEach(result => console.log(result));\n",
    "}\n",
    "\n",
    "// Call the function to execute\n",
    "checkMembershipEligibility();"
   ]
  },
  {
   "cell_type": "markdown",
   "metadata": {},
   "source": [
    "### New idea \n",
    "- short-circuited evaluation: \n",
    "    - expression can be determined by only looking at the first operand. "
   ]
  },
  {
   "cell_type": "code",
   "execution_count": null,
   "metadata": {
    "vscode": {
     "languageId": "java"
    }
   },
   "outputs": [],
   "source": [
    "function isEven(num) {\n",
    "    return num % 2 === 0;\n",
    "}\n",
    "\n",
    "function isPositive(num) {\n",
    "    return num > 0;\n",
    "}\n",
    "\n",
    "let number = 10;\n",
    "\n",
    "// Short-circuit with &&\n",
    "if (isEven(number) && isPositive(number)) {\n",
    "    console.log(number + \" is even and positive.\");\n",
    "} else {\n",
    "    console.log(number + \" does not meet the criteria.\");\n",
    "}\n"
   ]
  },
  {
   "cell_type": "markdown",
   "metadata": {},
   "source": [
    "## explanation - Short-Circuit Behavior:\n",
    "- && (Logical AND): The expression isEven(number) && isPositive(number) is evaluated.\n",
    "    - JavaScript first evaluates isEven(number). - If this returns false, the whole expression will short-circuit, and isPositive(number) will not be evaluated.\n",
    "- If isEven(number) is true, then isPositive(number) is evaluated."
   ]
  }
 ],
 "metadata": {
  "kernelspec": {
   "display_name": "Java",
   "language": "java",
   "name": "java"
  },
  "language_info": {
   "codemirror_mode": "java",
   "file_extension": ".jshell",
   "mimetype": "text/x-java-source",
   "name": "Java",
   "pygments_lexer": "java",
   "version": "17.0.12+8-LTS-286"
  }
 },
 "nbformat": 4,
 "nbformat_minor": 2
}
