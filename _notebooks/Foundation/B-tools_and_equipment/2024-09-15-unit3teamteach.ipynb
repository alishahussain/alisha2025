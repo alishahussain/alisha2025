{
 "cells": [
  {
   "cell_type": "markdown",
   "metadata": {},
   "source": [
    "---\n",
    "layout: post\n",
    "title: Unit 3 Team Teach - Boolean Expressions and If Statements\n",
    "categories: [Collaboration]\n",
    "courses: {csa: {week: 4}}\n",
    "toc: true\n",
    "comments: true\n",
    "---"
   ]
  },
  {
   "cell_type": "markdown",
   "metadata": {},
   "source": [
    "# 3.1 Boolean Expressions\n",
    "\n",
    "## Java's relational operators\n",
    "\n",
    "- equal to: ==\n",
    "- not equal to: !=\n",
    "- less than: <\n",
    "- greater than: >\n",
    "- less than or equal to: <=\n",
    "- greater than or equal to >="
   ]
  },
  {
   "cell_type": "markdown",
   "metadata": {},
   "source": [
    "<b>Hack!</b>\n",
    "\n",
    "```\n",
    "int myAge = 15;\n",
    "int otherAge = 45; \n",
    "```\n",
    "using these integers, determine weather the following statements are True or False\n",
    "\n",
    "<img width=\"785\" alt=\"Screenshot 2024-09-15 at 10 00 54 PM\" src=\"https://github.com/user-attachments/assets/1f4ec53e-fd9a-4f49-9546-a4945b8a207c\">\n",
    "\n",
    "## Booleans with Strings"
   ]
  },
  {
   "cell_type": "code",
   "execution_count": 4,
   "metadata": {},
   "outputs": [
    {
     "name": "stderr",
     "output_type": "stream",
     "text": [
      "UsageError: Cell magic `%%java` not found.\n"
     ]
    }
   ],
   "source": [
    "%%java\n",
    "\n",
    "String myName = Alisha;\n",
    "\n",
    "myName != Anika\n",
    "myName == Alisha "
   ]
  },
  {
   "cell_type": "code",
   "execution_count": 5,
   "metadata": {},
   "outputs": [
    {
     "ename": "SyntaxError",
     "evalue": "invalid syntax (3254502978.py, line 1)",
     "output_type": "error",
     "traceback": [
      "\u001b[0;36m  Cell \u001b[0;32mIn[5], line 1\u001b[0;36m\u001b[0m\n\u001b[0;31m    String myName = \"Alisha\";\u001b[0m\n\u001b[0m           ^\u001b[0m\n\u001b[0;31mSyntaxError\u001b[0m\u001b[0;31m:\u001b[0m invalid syntax\n"
     ]
    }
   ],
   "source": [
    "String myName = \"Alisha\";\n",
    "\n",
    "if (!myName.equals(\"Anika\")) {\n",
    "    System.out.println(\"Names are not equal.\");\n",
    "}\n",
    "\n",
    "if (myName.equals(\"Alisha\")) {\n",
    "    System.out.println(\"Names are equal.\");\n",
    "}\n"
   ]
  },
  {
   "cell_type": "markdown",
   "metadata": {},
   "source": [
    "practice frq\n",
    "<img width=\"693\" alt=\"Screenshot 2024-09-16 at 8 05 24 AM\" src=\"https://github.com/user-attachments/assets/1fe21854-ca17-4cfd-9e9d-14a92e6e6205\">\n",
    "what is the precondition for num?\n",
    " "
   ]
  },
  {
   "cell_type": "markdown",
   "metadata": {},
   "source": [
    "# 3.2 If Statements and Control Flow\n",
    "<img width=\"322\" alt=\"Screenshot 2024-09-16 at 8 07 34 AM\" src=\"https://github.com/user-attachments/assets/4409a622-5497-4495-b23c-ad25597e80bf\">\n",
    "<img width=\"319\" alt=\"Screenshot 2024-09-16 at 8 07 41 AM\" src=\"https://github.com/user-attachments/assets/25c381e4-e5c9-47dc-aaa5-d3892d5b8738\">\n"
   ]
  },
  {
   "cell_type": "code",
   "execution_count": null,
   "metadata": {},
   "outputs": [],
   "source": [
    "public static void main(String [] args)\n",
    "{\n",
    "    int myAge = 16;\n",
    "    System.out.println(\"current age: \"+ myAge);\n",
    "    if (myAge >= 16)\n",
    "    {\n",
    "        System.out.prinln(\"you can start learning to drive!\");\n",
    "    }\n",
    "    System.out.prinln(\"on your next birthday, you will be \"+ myAge + \"years old!\")\n",
    "}"
   ]
  },
  {
   "cell_type": "markdown",
   "metadata": {},
   "source": [
    "create test cases that do not satisy the condition above. you can copy/paste the code into the new code cell"
   ]
  },
  {
   "cell_type": "code",
   "execution_count": null,
   "metadata": {},
   "outputs": [],
   "source": []
  }
 ],
 "metadata": {
  "kernelspec": {
   "display_name": ".venv",
   "language": "python",
   "name": "python3"
  },
  "language_info": {
   "codemirror_mode": {
    "name": "ipython",
    "version": 3
   },
   "file_extension": ".py",
   "mimetype": "text/x-python",
   "name": "python",
   "nbconvert_exporter": "python",
   "pygments_lexer": "ipython3",
   "version": "3.12.5"
  }
 },
 "nbformat": 4,
 "nbformat_minor": 2
}
