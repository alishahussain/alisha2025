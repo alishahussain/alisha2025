{
 "cells": [
  {
   "cell_type": "markdown",
   "metadata": {},
   "source": [
    "---\n",
    "layout: post\n",
    "title: Unit 6 Homework\n",
    "description: Unit 6 Homework\n",
    "categories: [Collaboration]\n",
    "courses: { csse: {week: 0}, csp: {week: 0 }, csa: {week: 0}}\n",
    "type: collab\n",
    "menu: nav/unit6hw\n",
    "permalink: teamteach/unit6/hw\n",
    "toc: true\n",
    "---"
   ]
  },
  {
   "cell_type": "code",
   "execution_count": null,
   "metadata": {},
   "outputs": [],
   "source": []
  }
 ],
 "metadata": {
  "language_info": {
   "name": "python"
  }
 },
 "nbformat": 4,
 "nbformat_minor": 2
}
